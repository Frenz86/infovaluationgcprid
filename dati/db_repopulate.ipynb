{
 "cells": [
  {
   "cell_type": "code",
   "execution_count": 2,
   "metadata": {},
   "outputs": [],
   "source": [
    "import pandas as pd\n",
    "import sqlite3\n",
    "\n",
    "def populate_sqlite_from_csv(file, database_file,tablename):\n",
    "    # Leggi il foglio di calcolo Excel in un DataFrame\n",
    "    df = pd.read_excel(file,dtype={'settore':str})\n",
    "    \n",
    "    # Connette al database SQLite\n",
    "    conn = sqlite3.connect(database_file)\n",
    "    \n",
    "    # Scrivi il DataFrame nel database SQLite\n",
    "    df.to_sql(tablename, conn, if_exists='replace', index=False)\n",
    "    \n",
    "    # Chiudi la connessione al database\n",
    "    conn.close()"
   ]
  },
  {
   "cell_type": "code",
   "execution_count": 3,
   "metadata": {},
   "outputs": [],
   "source": [
    "#populate_sqlite_from_csv('db_fasce2cifre.xlsx','infovaluation.db','fasce2')\n",
    "#populate_sqlite_from_csv('db_medie2cifre.xlsx','infovaluation.db','medie2')\n",
    "populate_sqlite_from_csv('db_multipli2cifre.xlsx','infovaluation.db','multipli2')\n",
    "\n",
    "#populate_sqlite_from_csv('db_fasce4cifre.xlsx','infovaluation.db','fasce4')\n",
    "#populate_sqlite_from_csv('db_medie4cifre.xlsx','infovaluation.db','medie4')\n",
    "populate_sqlite_from_csv('db_multipli4cifre.xlsx','infovaluation.db','multipli4')"
   ]
  },
  {
   "cell_type": "code",
   "execution_count": null,
   "metadata": {},
   "outputs": [],
   "source": []
  }
 ],
 "metadata": {
  "kernelspec": {
   "display_name": "Python 3",
   "language": "python",
   "name": "python3"
  },
  "language_info": {
   "codemirror_mode": {
    "name": "ipython",
    "version": 3
   },
   "file_extension": ".py",
   "mimetype": "text/x-python",
   "name": "python",
   "nbconvert_exporter": "python",
   "pygments_lexer": "ipython3",
   "version": "3.10.9"
  },
  "orig_nbformat": 4,
  "vscode": {
   "interpreter": {
    "hash": "0f2f6c680cf484319d387fabac80ca4ff4fc33965036e02100b3fe02600f1423"
   }
  }
 },
 "nbformat": 4,
 "nbformat_minor": 2
}
