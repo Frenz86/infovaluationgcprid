{
 "cells": [
  {
   "cell_type": "code",
   "execution_count": null,
   "metadata": {},
   "outputs": [],
   "source": [
    "import pandas as pd\n",
    "import os\n",
    "\n",
    "# Specify the folder path containing Excel files\n",
    "folder_path = \"input/\"\n",
    "\n",
    "# Get a list of all Excel files in the folder\n",
    "excel_files = [file for file in os.listdir(folder_path) if file.endswith('.xlsx')]\n",
    "\n",
    "# Loop through each Excel file and check if it has more than one row\n",
    "for file in excel_files:\n",
    "    # Read the Excel file using pandas\n",
    "    df = pd.read_excel(os.path.join(folder_path, file))\n",
    "    \n",
    "    # Check if the dataframe has more than one row\n",
    "    if df.shape[0] > 1:\n",
    "        print(f\"{file} has more than one row\")\n",
    "    else:\n",
    "        print(f\"{file} has only one row\")\n",
    "        df.to_excel(f'onerow/{file}')"
   ]
  },
  {
   "cell_type": "code",
   "execution_count": null,
   "metadata": {},
   "outputs": [],
   "source": []
  }
 ],
 "metadata": {
  "kernelspec": {
   "display_name": "Python 3",
   "language": "python",
   "name": "python3"
  },
  "language_info": {
   "codemirror_mode": {
    "name": "ipython",
    "version": 3
   },
   "file_extension": ".py",
   "mimetype": "text/x-python",
   "name": "python",
   "nbconvert_exporter": "python",
   "pygments_lexer": "ipython3",
   "version": "3.10.9"
  },
  "orig_nbformat": 4
 },
 "nbformat": 4,
 "nbformat_minor": 2
}
